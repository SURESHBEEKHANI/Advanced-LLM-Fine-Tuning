{
  "nbformat": 4,
  "nbformat_minor": 0,
  "metadata": {
    "colab": {
      "private_outputs": true,
      "provenance": [],
      "toc_visible": true,
      "gpuType": "T4",
      "authorship_tag": "ABX9TyNn8X59LiqXlzJ3CkCYJw7H",
      "include_colab_link": true
    },
    "kernelspec": {
      "name": "python3",
      "display_name": "Python 3"
    },
    "language_info": {
      "name": "python"
    },
    "accelerator": "GPU"
  },
  "cells": [
    {
      "cell_type": "markdown",
      "metadata": {
        "id": "view-in-github",
        "colab_type": "text"
      },
      "source": [
        "<a href=\"https://colab.research.google.com/github/SURESHBEEKHANI/Advanced-LLM-Fine-Tuning/blob/main/Mistral_7B_Finetuning_.ipynb\" target=\"_parent\"><img src=\"https://colab.research.google.com/assets/colab-badge.svg\" alt=\"Open In Colab\"/></a>"
      ]
    },
    {
      "cell_type": "code",
      "execution_count": null,
      "metadata": {
        "id": "3sGCE5w5WA1h"
      },
      "outputs": [],
      "source": [
        "# - accelerate: A library to optimize and accelerate deep learning training and inference, especially on distributed systems.\n",
        "# - peft: A library for Parameter-Efficient Fine-Tuning (PEFT) of large language models.\n",
        "# - bitsandbytes: A lightweight library for 8-bit optimizers and memory-efficient GPU computation.\n",
        "# - trl: The Transformers Reinforcement Learning library for fine-tuning models with reinforcement learning techniques.\n",
        "# - py7zr: A library to handle .7z archive files, used for extracting compressed data.\n",
        "# - auto-gptq: A library for efficient quantization of models for lower hardware requirements.\n",
        "# - optimum: A library providing performance optimizations for models, especially for Hugging Face models on specific hardware.\n",
        "!pip install accelerate peft bitsandbytes trl py7zr auto-gptq optimum"
      ]
    }
  ]
}